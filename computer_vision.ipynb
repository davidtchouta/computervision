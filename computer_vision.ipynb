{
 "cells": [
  {
   "cell_type": "code",
   "execution_count": 2,
   "id": "3a679731-2916-4361-842d-a9cd85e19c60",
   "metadata": {},
   "outputs": [
    {
     "name": "stdout",
     "output_type": "stream",
     "text": [
      "Requirement already satisfied: ultralytics in c:\\users\\dvid\\appdata\\roaming\\python\\python39\\site-packages (8.1.26)\n",
      "Requirement already satisfied: pillow in c:\\users\\dvid\\anaconda3\\envs\\compvienv\\lib\\site-packages (10.2.0)\n",
      "Requirement already satisfied: opencv-python in c:\\users\\dvid\\anaconda3\\envs\\compvienv\\lib\\site-packages (4.9.0.80)\n",
      "Requirement already satisfied: matplotlib>=3.3.0 in c:\\users\\dvid\\appdata\\roaming\\python\\python39\\site-packages (from ultralytics) (3.8.3)\n",
      "Requirement already satisfied: pyyaml>=5.3.1 in c:\\users\\dvid\\anaconda3\\envs\\compvienv\\lib\\site-packages (from ultralytics) (6.0.1)\n",
      "Requirement already satisfied: requests>=2.23.0 in c:\\users\\dvid\\anaconda3\\envs\\compvienv\\lib\\site-packages (from ultralytics) (2.31.0)\n",
      "Requirement already satisfied: scipy>=1.4.1 in c:\\users\\dvid\\anaconda3\\envs\\compvienv\\lib\\site-packages (from ultralytics) (1.12.0)\n",
      "Requirement already satisfied: torch>=1.8.0 in c:\\users\\dvid\\anaconda3\\envs\\compvienv\\lib\\site-packages (from ultralytics) (2.2.1)\n",
      "Requirement already satisfied: torchvision>=0.9.0 in c:\\users\\dvid\\appdata\\roaming\\python\\python39\\site-packages (from ultralytics) (0.17.1)\n",
      "Requirement already satisfied: tqdm>=4.64.0 in c:\\users\\dvid\\anaconda3\\envs\\compvienv\\lib\\site-packages (from ultralytics) (4.66.2)\n",
      "Requirement already satisfied: psutil in c:\\users\\dvid\\anaconda3\\envs\\compvienv\\lib\\site-packages (from ultralytics) (5.9.8)\n",
      "Requirement already satisfied: py-cpuinfo in c:\\users\\dvid\\anaconda3\\envs\\compvienv\\lib\\site-packages (from ultralytics) (9.0.0)\n",
      "Requirement already satisfied: thop>=0.1.1 in c:\\users\\dvid\\appdata\\roaming\\python\\python39\\site-packages (from ultralytics) (0.1.1.post2209072238)\n",
      "Requirement already satisfied: pandas>=1.1.4 in c:\\users\\dvid\\appdata\\roaming\\python\\python39\\site-packages (from ultralytics) (2.2.1)\n",
      "Requirement already satisfied: seaborn>=0.11.0 in c:\\users\\dvid\\appdata\\roaming\\python\\python39\\site-packages (from ultralytics) (0.13.2)\n",
      "Requirement already satisfied: numpy>=1.17.0 in c:\\users\\dvid\\anaconda3\\envs\\compvienv\\lib\\site-packages (from opencv-python) (1.26.4)\n",
      "Requirement already satisfied: contourpy>=1.0.1 in c:\\users\\dvid\\anaconda3\\envs\\compvienv\\lib\\site-packages (from matplotlib>=3.3.0->ultralytics) (1.2.0)\n",
      "Requirement already satisfied: cycler>=0.10 in c:\\users\\dvid\\anaconda3\\envs\\compvienv\\lib\\site-packages (from matplotlib>=3.3.0->ultralytics) (0.12.1)\n",
      "Requirement already satisfied: fonttools>=4.22.0 in c:\\users\\dvid\\anaconda3\\envs\\compvienv\\lib\\site-packages (from matplotlib>=3.3.0->ultralytics) (4.49.0)\n",
      "Requirement already satisfied: kiwisolver>=1.3.1 in c:\\users\\dvid\\anaconda3\\envs\\compvienv\\lib\\site-packages (from matplotlib>=3.3.0->ultralytics) (1.4.5)\n",
      "Requirement already satisfied: packaging>=20.0 in c:\\users\\dvid\\anaconda3\\envs\\compvienv\\lib\\site-packages (from matplotlib>=3.3.0->ultralytics) (24.0)\n",
      "Requirement already satisfied: pyparsing>=2.3.1 in c:\\users\\dvid\\anaconda3\\envs\\compvienv\\lib\\site-packages (from matplotlib>=3.3.0->ultralytics) (3.1.2)\n",
      "Requirement already satisfied: python-dateutil>=2.7 in c:\\users\\dvid\\anaconda3\\envs\\compvienv\\lib\\site-packages (from matplotlib>=3.3.0->ultralytics) (2.9.0.post0)\n",
      "Requirement already satisfied: importlib-resources>=3.2.0 in c:\\users\\dvid\\anaconda3\\envs\\compvienv\\lib\\site-packages (from matplotlib>=3.3.0->ultralytics) (6.1.3)\n",
      "Requirement already satisfied: pytz>=2020.1 in c:\\users\\dvid\\anaconda3\\envs\\compvienv\\lib\\site-packages (from pandas>=1.1.4->ultralytics) (2024.1)\n",
      "Requirement already satisfied: tzdata>=2022.7 in c:\\users\\dvid\\anaconda3\\envs\\compvienv\\lib\\site-packages (from pandas>=1.1.4->ultralytics) (2024.1)\n",
      "Requirement already satisfied: charset-normalizer<4,>=2 in c:\\users\\dvid\\anaconda3\\envs\\compvienv\\lib\\site-packages (from requests>=2.23.0->ultralytics) (3.3.2)\n",
      "Requirement already satisfied: idna<4,>=2.5 in c:\\users\\dvid\\anaconda3\\envs\\compvienv\\lib\\site-packages (from requests>=2.23.0->ultralytics) (3.6)\n",
      "Requirement already satisfied: urllib3<3,>=1.21.1 in c:\\users\\dvid\\anaconda3\\envs\\compvienv\\lib\\site-packages (from requests>=2.23.0->ultralytics) (2.2.1)\n",
      "Requirement already satisfied: certifi>=2017.4.17 in c:\\users\\dvid\\anaconda3\\envs\\compvienv\\lib\\site-packages (from requests>=2.23.0->ultralytics) (2024.2.2)\n",
      "Requirement already satisfied: filelock in c:\\users\\dvid\\anaconda3\\envs\\compvienv\\lib\\site-packages (from torch>=1.8.0->ultralytics) (3.13.1)\n",
      "Requirement already satisfied: typing-extensions>=4.8.0 in c:\\users\\dvid\\anaconda3\\envs\\compvienv\\lib\\site-packages (from torch>=1.8.0->ultralytics) (4.10.0)\n",
      "Requirement already satisfied: sympy in c:\\users\\dvid\\anaconda3\\envs\\compvienv\\lib\\site-packages (from torch>=1.8.0->ultralytics) (1.12)\n",
      "Requirement already satisfied: networkx in c:\\users\\dvid\\anaconda3\\envs\\compvienv\\lib\\site-packages (from torch>=1.8.0->ultralytics) (3.2.1)\n",
      "Requirement already satisfied: jinja2 in c:\\users\\dvid\\anaconda3\\envs\\compvienv\\lib\\site-packages (from torch>=1.8.0->ultralytics) (3.1.3)\n",
      "Requirement already satisfied: fsspec in c:\\users\\dvid\\anaconda3\\envs\\compvienv\\lib\\site-packages (from torch>=1.8.0->ultralytics) (2024.2.0)\n",
      "Requirement already satisfied: colorama in c:\\users\\dvid\\anaconda3\\envs\\compvienv\\lib\\site-packages (from tqdm>=4.64.0->ultralytics) (0.4.6)\n",
      "Requirement already satisfied: zipp>=3.1.0 in c:\\users\\dvid\\anaconda3\\envs\\compvienv\\lib\\site-packages (from importlib-resources>=3.2.0->matplotlib>=3.3.0->ultralytics) (3.17.0)\n",
      "Requirement already satisfied: six>=1.5 in c:\\users\\dvid\\anaconda3\\envs\\compvienv\\lib\\site-packages (from python-dateutil>=2.7->matplotlib>=3.3.0->ultralytics) (1.16.0)\n",
      "Requirement already satisfied: MarkupSafe>=2.0 in c:\\users\\dvid\\anaconda3\\envs\\compvienv\\lib\\site-packages (from jinja2->torch>=1.8.0->ultralytics) (2.1.5)\n",
      "Requirement already satisfied: mpmath>=0.19 in c:\\users\\dvid\\anaconda3\\envs\\compvienv\\lib\\site-packages (from sympy->torch>=1.8.0->ultralytics) (1.3.0)\n"
     ]
    }
   ],
   "source": [
    "! pip install ultralytics pillow opencv-python --user"
   ]
  },
  {
   "cell_type": "code",
   "execution_count": 3,
   "id": "9fac5fa9-9442-4fcd-a616-0f9311eec54b",
   "metadata": {},
   "outputs": [],
   "source": [
    "from ultralytics import YOLO"
   ]
  },
  {
   "cell_type": "code",
   "execution_count": 4,
   "id": "772eac92-5436-4c4b-8ea0-e1cc727ef467",
   "metadata": {},
   "outputs": [],
   "source": [
    "# Load a pretrained YOLOv8n model\n",
    "model=YOLO('yolov8n.pt')"
   ]
  },
  {
   "cell_type": "code",
   "execution_count": 5,
   "id": "79422bca-54de-46a2-9541-ef812ab47dbe",
   "metadata": {},
   "outputs": [
    {
     "name": "stdout",
     "output_type": "stream",
     "text": [
      "C:\\Users\\dvid\\Documents\\Python_ML\\computer_vision\n"
     ]
    }
   ],
   "source": [
    "import os\n",
    "print(os.getcwd())"
   ]
  },
  {
   "cell_type": "code",
   "execution_count": 6,
   "id": "feaaf2da-58aa-4e42-b650-93464bf3461b",
   "metadata": {},
   "outputs": [
    {
     "name": "stdout",
     "output_type": "stream",
     "text": [
      "\n",
      "image 1/1 C:\\Users\\dvid\\Documents\\Python_ML\\computer_vision\\road.jpg: 448x640 7 cars, 7 trucks, 468.0ms\n",
      "Speed: 7.0ms preprocess, 468.0ms inference, 7.0ms postprocess per image at shape (1, 3, 448, 640)\n",
      "Results saved to \u001b[1mruns\\detect\\predict2\u001b[0m\n"
     ]
    }
   ],
   "source": [
    "results=model(source='C:\\\\Users\\\\dvid\\\\Documents\\\\Python_ML\\\\computer_vision\\\\road.jpg', show=True, conf=0.2, save=True)"
   ]
  },
  {
   "cell_type": "code",
   "execution_count": null,
   "id": "f5e60a4e-f460-4161-aa01-b452b8b05740",
   "metadata": {},
   "outputs": [],
   "source": []
  }
 ],
 "metadata": {
  "kernelspec": {
   "display_name": "pycaretenvkernel",
   "language": "python",
   "name": "pycaretenv"
  },
  "language_info": {
   "codemirror_mode": {
    "name": "ipython",
    "version": 3
   },
   "file_extension": ".py",
   "mimetype": "text/x-python",
   "name": "python",
   "nbconvert_exporter": "python",
   "pygments_lexer": "ipython3",
   "version": "3.8.18"
  }
 },
 "nbformat": 4,
 "nbformat_minor": 5
}
